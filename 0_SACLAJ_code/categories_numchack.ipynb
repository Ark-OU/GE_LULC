{
 "cells": [
  {
   "cell_type": "code",
   "execution_count": 1,
   "metadata": {},
   "outputs": [],
   "source": [
    "import numpy as np\n",
    "import pandas as pd"
   ]
  },
  {
   "cell_type": "code",
   "execution_count": 2,
   "metadata": {},
   "outputs": [
    {
     "data": {
      "text/html": [
       "<div>\n",
       "<style scoped>\n",
       "    .dataframe tbody tr th:only-of-type {\n",
       "        vertical-align: middle;\n",
       "    }\n",
       "\n",
       "    .dataframe tbody tr th {\n",
       "        vertical-align: top;\n",
       "    }\n",
       "\n",
       "    .dataframe thead th {\n",
       "        text-align: right;\n",
       "    }\n",
       "</style>\n",
       "<table border=\"1\" class=\"dataframe\">\n",
       "  <thead>\n",
       "    <tr style=\"text-align: right;\">\n",
       "      <th></th>\n",
       "      <th>id</th>\n",
       "      <th>category</th>\n",
       "      <th>target_lat</th>\n",
       "      <th>target_lon</th>\n",
       "    </tr>\n",
       "  </thead>\n",
       "  <tbody>\n",
       "    <tr>\n",
       "      <th>0</th>\n",
       "      <td>1</td>\n",
       "      <td>DBF</td>\n",
       "      <td>35.560440</td>\n",
       "      <td>139.212692</td>\n",
       "    </tr>\n",
       "    <tr>\n",
       "      <th>1</th>\n",
       "      <td>6</td>\n",
       "      <td>Crops</td>\n",
       "      <td>36.090763</td>\n",
       "      <td>140.240005</td>\n",
       "    </tr>\n",
       "    <tr>\n",
       "      <th>2</th>\n",
       "      <td>7</td>\n",
       "      <td>Rice paddy</td>\n",
       "      <td>36.112370</td>\n",
       "      <td>140.206543</td>\n",
       "    </tr>\n",
       "    <tr>\n",
       "      <th>3</th>\n",
       "      <td>8</td>\n",
       "      <td>Water</td>\n",
       "      <td>35.870140</td>\n",
       "      <td>140.291473</td>\n",
       "    </tr>\n",
       "    <tr>\n",
       "      <th>4</th>\n",
       "      <td>9</td>\n",
       "      <td>Crops</td>\n",
       "      <td>36.090763</td>\n",
       "      <td>140.240005</td>\n",
       "    </tr>\n",
       "    <tr>\n",
       "      <th>...</th>\n",
       "      <td>...</td>\n",
       "      <td>...</td>\n",
       "      <td>...</td>\n",
       "      <td>...</td>\n",
       "    </tr>\n",
       "    <tr>\n",
       "      <th>34083</th>\n",
       "      <td>53600</td>\n",
       "      <td>Rice paddy</td>\n",
       "      <td>37.552952</td>\n",
       "      <td>139.882785</td>\n",
       "    </tr>\n",
       "    <tr>\n",
       "      <th>34084</th>\n",
       "      <td>53601</td>\n",
       "      <td>Rice paddy</td>\n",
       "      <td>37.553133</td>\n",
       "      <td>139.881737</td>\n",
       "    </tr>\n",
       "    <tr>\n",
       "      <th>34085</th>\n",
       "      <td>54110</td>\n",
       "      <td>Crops</td>\n",
       "      <td>36.142841</td>\n",
       "      <td>140.125046</td>\n",
       "    </tr>\n",
       "    <tr>\n",
       "      <th>34086</th>\n",
       "      <td>56218</td>\n",
       "      <td>Water</td>\n",
       "      <td>36.100461</td>\n",
       "      <td>140.103965</td>\n",
       "    </tr>\n",
       "    <tr>\n",
       "      <th>34087</th>\n",
       "      <td>56219</td>\n",
       "      <td>DBF</td>\n",
       "      <td>36.100742</td>\n",
       "      <td>140.104582</td>\n",
       "    </tr>\n",
       "  </tbody>\n",
       "</table>\n",
       "<p>34088 rows × 4 columns</p>\n",
       "</div>"
      ],
      "text/plain": [
       "          id    category  target_lat  target_lon\n",
       "0          1         DBF   35.560440  139.212692\n",
       "1          6       Crops   36.090763  140.240005\n",
       "2          7  Rice paddy   36.112370  140.206543\n",
       "3          8       Water   35.870140  140.291473\n",
       "4          9       Crops   36.090763  140.240005\n",
       "...      ...         ...         ...         ...\n",
       "34083  53600  Rice paddy   37.552952  139.882785\n",
       "34084  53601  Rice paddy   37.553133  139.881737\n",
       "34085  54110       Crops   36.142841  140.125046\n",
       "34086  56218       Water   36.100461  140.103965\n",
       "34087  56219         DBF   36.100742  140.104582\n",
       "\n",
       "[34088 rows x 4 columns]"
      ]
     },
     "execution_count": 2,
     "metadata": {},
     "output_type": "execute_result"
    }
   ],
   "source": [
    "train = r\"D:\\LULC\\raw_data\\0_groundtruth\\SACLAJ_2014_2016_catclearned.csv\"\n",
    "df_train = pd.read_csv(train)\n",
    "df_train"
   ]
  },
  {
   "cell_type": "code",
   "execution_count": 3,
   "metadata": {},
   "outputs": [
    {
     "data": {
      "text/plain": [
       "array(['Bare land', 'Crops', 'DBF', 'DNF', 'EBF', 'ENF', 'Grassland',\n",
       "       'Rice paddy', 'Urban and built-up', 'Water'], dtype=object)"
      ]
     },
     "execution_count": 3,
     "metadata": {},
     "output_type": "execute_result"
    }
   ],
   "source": [
    "unique = np.unique(df_train[\"category\"])\n",
    "unique"
   ]
  },
  {
   "cell_type": "code",
   "execution_count": 7,
   "metadata": {
    "code_folding": []
   },
   "outputs": [
    {
     "name": "stdout",
     "output_type": "stream",
     "text": [
      "Water = 1714個\n",
      "Urban and built-up = 3500個\n",
      "Rice paddy = 8775個\n",
      "Crops = 6313個\n",
      "Grassland = 3807個\n",
      "DBF = 3246個\n",
      "DNF = 438個\n",
      "EBF = 1242個\n",
      "ENF = 4176個\n",
      "Bare land = 877個\n"
     ]
    }
   ],
   "source": [
    "hand_unique = ['Water', 'Urban and built-up', 'Rice paddy', 'Crops', 'Grassland', 'DBF', 'DNF', 'EBF', 'ENF', 'Bare land']\n",
    "for i in hand_unique:\n",
    "    num = sum(df_train[\"category\"]==i)\n",
    "    print(f\"{i} = {num}個\")"
   ]
  },
  {
   "cell_type": "code",
   "execution_count": 6,
   "metadata": {},
   "outputs": [
    {
     "data": {
      "text/plain": [
       "count          34088\n",
       "unique            10\n",
       "top       Rice paddy\n",
       "freq            8775\n",
       "Name: category, dtype: object"
      ]
     },
     "execution_count": 6,
     "metadata": {},
     "output_type": "execute_result"
    }
   ],
   "source": [
    "df_train[\"category\"].describe()"
   ]
  }
 ],
 "metadata": {
  "kernelspec": {
   "display_name": "Python 3",
   "language": "python",
   "name": "python3"
  },
  "language_info": {
   "codemirror_mode": {
    "name": "ipython",
    "version": 3
   },
   "file_extension": ".py",
   "mimetype": "text/x-python",
   "name": "python",
   "nbconvert_exporter": "python",
   "pygments_lexer": "ipython3",
   "version": "3.7.9"
  },
  "toc": {
   "base_numbering": 1,
   "nav_menu": {},
   "number_sections": true,
   "sideBar": true,
   "skip_h1_title": false,
   "title_cell": "Table of Contents",
   "title_sidebar": "Contents",
   "toc_cell": false,
   "toc_position": {},
   "toc_section_display": true,
   "toc_window_display": false
  }
 },
 "nbformat": 4,
 "nbformat_minor": 4
}
